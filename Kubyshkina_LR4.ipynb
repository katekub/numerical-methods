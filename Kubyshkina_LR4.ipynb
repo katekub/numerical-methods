{
 "cells": [
  {
   "cell_type": "markdown",
   "metadata": {},
   "source": [
    "**Кубышкина Екатерина, 11 вариант**"
   ]
  },
  {
   "cell_type": "markdown",
   "metadata": {},
   "source": [
    "**Задание 4.1.11**"
   ]
  },
  {
   "cell_type": "markdown",
   "metadata": {},
   "source": [
    "<img src='numerical-methods/c12xQ-3Q6Zk.jpg'>"
   ]
  },
  {
   "cell_type": "markdown",
   "metadata": {},
   "source": [
    "<img src='Jj3IhlFiedA.jpg'>"
   ]
  },
  {
   "cell_type": "code",
   "execution_count": 7,
   "metadata": {},
   "outputs": [],
   "source": [
    "import numpy as np"
   ]
  },
  {
   "cell_type": "code",
   "execution_count": 8,
   "metadata": {},
   "outputs": [
    {
     "data": {
      "text/plain": [
       "(matrix([[  3.96,  -1.5 ,   0.  ,  -0.99,  -1.4 ,   0.  ],\n",
       "         [  3.96,  18.3 ,   1.6 ,   6.93,   4.3 ,   1.5 ],\n",
       "         [  0.  ,   4.6 , -13.  ,   4.29,  -1.4 ,   2.3 ],\n",
       "         [  3.96,   0.4 ,   0.  ,   5.94,   1.5 ,   0.  ],\n",
       "         [  5.94,   3.1 ,   3.4 ,   0.99,  14.4 ,   0.9 ],\n",
       "         [ -2.97,  -1.2 ,   0.8 ,   4.95,  -2.7 ,  12.7 ]]),\n",
       " array([32.83, 91.31, 29.91, 98.8 , 56.97, 37.92]))"
      ]
     },
     "execution_count": 8,
     "metadata": {},
     "output_type": "execute_result"
    }
   ],
   "source": [
    "#Задание матрицы А и вектора свободных членов В\n",
    "A = np.matrix([[3.96, -1.5, 0, -0.99, -1.4, 0], [3.96, 18.3, 1.6, 6.93, 4.3, 1.5], [0, 4.6, -13, 4.29, -1.4, 2.3], \n",
    "               [3.96, 0.4, 0, 5.94, 1.5, 0], [5.94, 3.1, 3.4, 0.99, 14.4,0.9], [-2.97, -1.2, 0.8, 4.95, -2.7, 12.7]])\n",
    "b = np.array([32.83, 91.31, 29.91, 98.8, 56.97, 37.92])\n",
    "A,b"
   ]
  },
  {
   "cell_type": "code",
   "execution_count": 9,
   "metadata": {},
   "outputs": [
    {
     "name": "stdout",
     "output_type": "stream",
     "text": [
      "[10.11111111 -1.          1.         10.21212121 -1.          1.        ]\n"
     ]
    }
   ],
   "source": [
    "# решаем через библиотечную функцию\n",
    "x_gauss = np.linalg.solve(A,b)\n",
    "print(x_gauss)"
   ]
  },
  {
   "cell_type": "code",
   "execution_count": 10,
   "metadata": {},
   "outputs": [
    {
     "name": "stdout",
     "output_type": "stream",
     "text": [
      "[[ 0.          0.37878788 -0.          0.25        0.35353535 -0.        ]\n",
      " [-0.21639344  0.         -0.08743169 -0.37868852 -0.23497268 -0.08196721]\n",
      " [ 0.          0.35384615  0.          0.33       -0.10769231  0.17692308]\n",
      " [-0.66666667 -0.06734007 -0.          0.         -0.25252525 -0.        ]\n",
      " [-0.4125     -0.21527778 -0.23611111 -0.06875     0.         -0.0625    ]\n",
      " [ 0.23385827  0.09448819 -0.06299213 -0.38976378  0.21259843  0.        ]]\n",
      "[ 8.29040404  4.98961749 -2.30076923 16.63299663  3.95625     2.98582677]\n"
     ]
    }
   ],
   "source": [
    "# преобразуем к удобному виду Ax=b <=> x=Bx+c\n",
    "n=6\n",
    "B=np.zeros([n,n])\n",
    "c=np.zeros(n)\n",
    "\n",
    "for i in range(A.shape[0]):\n",
    "    c[i]=b[i]/A[i,i]\n",
    "    for j in range(A.shape[1]):\n",
    "        if i!=j:\n",
    "            B[i,j]=-A[i,j]/A[i,i]\n",
    "print(B)\n",
    "print(c)"
   ]
  },
  {
   "cell_type": "code",
   "execution_count": 11,
   "metadata": {},
   "outputs": [],
   "source": [
    "# метод Зейделя\n",
    "def Seidel(B,c,x0,maxiter=10,eps=1e-5):\n",
    "    x_new=x0\n",
    "    for i in range(maxiter):\n",
    "        x_old=x_new\n",
    "        x_new=np.dot(B,x_old)+c\n",
    "        if np.linalg.norm(x_new-x_old,ord=np.inf)<eps:\n",
    "            return x_new,i+1\n",
    "        \n",
    "    return x_new,i+1"
   ]
  },
  {
   "cell_type": "code",
   "execution_count": 12,
   "metadata": {},
   "outputs": [
    {
     "name": "stdout",
     "output_type": "stream",
     "text": [
      "||B|| = 0.9994535519125683\n"
     ]
    }
   ],
   "source": [
    "# достаточное условие сходимости\n",
    "print('||B|| =',np.linalg.norm(B,ord=np.inf))"
   ]
  },
  {
   "cell_type": "markdown",
   "metadata": {},
   "source": [
    "Достаточное  условие сходимости итерационных методов: $$||B||<1$$\n",
    "здесь данное условие выполняется, и поскольку норма матрицы 𝐵<1, то метод сходится со скоростью геометрической прогрессии"
   ]
  },
  {
   "cell_type": "markdown",
   "metadata": {},
   "source": [
    "Тут взяли приближение, расположенное близко к нашему решению и за 10 итераций метод почти подобрался к решению"
   ]
  },
  {
   "cell_type": "code",
   "execution_count": 13,
   "metadata": {},
   "outputs": [
    {
     "name": "stdout",
     "output_type": "stream",
     "text": [
      "x = [ 9.77611872 -0.89747247  0.76270857 10.06852674 -1.07823526  1.10605719]\n",
      "0.3349923958123249\n"
     ]
    }
   ],
   "source": [
    "x0=np.array([0,0,0,0,0,0])\n",
    "x_Seidel=Seidel(B, c, x0, 10)[0]\n",
    "print('x =',x_Seidel)\n",
    "print(np.linalg.norm(x_gauss-x_Seidel,ord=np.inf))"
   ]
  },
  {
   "cell_type": "markdown",
   "metadata": {},
   "source": [
    "Здесь все значительно хуже"
   ]
  },
  {
   "cell_type": "code",
   "execution_count": 14,
   "metadata": {},
   "outputs": [
    {
     "name": "stdout",
     "output_type": "stream",
     "text": [
      "x = [ 1.31270437e+01 -1.60613595e+00  3.20732807e+00  1.20266354e+01\n",
      "  8.76127572e-02 -1.13427551e-03]\n",
      "3.015932540707702\n"
     ]
    }
   ],
   "source": [
    "x0=np.array([100,10,10,100,10,10])\n",
    "x_Seidel=Seidel(B, c, x0, 10)[0]\n",
    "print('x =',x_Seidel)\n",
    "print(np.linalg.norm(x_gauss-x_Seidel,ord=np.inf))"
   ]
  },
  {
   "cell_type": "markdown",
   "metadata": {},
   "source": [
    "При различных начальных приближениях, когда одно приближение находится ближе к корню, а другое – дальше, \n",
    "погрешность будет сильно отличается"
   ]
  },
  {
   "cell_type": "markdown",
   "metadata": {},
   "source": [
    "**Задание 4.2**"
   ]
  },
  {
   "cell_type": "markdown",
   "metadata": {},
   "source": [
    "<img src=\"KsnupLoG4Zs.jpg\">"
   ]
  },
  {
   "cell_type": "code",
   "execution_count": 15,
   "metadata": {},
   "outputs": [
    {
     "name": "stdout",
     "output_type": "stream",
     "text": [
      "x = [10.11111103 -1.00000028  0.99999988 10.21212068 -1.00000039  1.00000007]\n",
      "Число итераций: 49\n"
     ]
    }
   ],
   "source": [
    "x0=np.array([0,0,0,0,0,0])\n",
    "x_Seidel,number=Seidel(B,c,x0,100,1e-6)\n",
    "print('x =',x_Seidel)\n",
    "print('Число итераций:',number)"
   ]
  },
  {
   "cell_type": "markdown",
   "metadata": {},
   "source": [
    "**Задание 4.4.5**"
   ]
  },
  {
   "cell_type": "markdown",
   "metadata": {},
   "source": [
    "<img src=\"Ggq4DVPDN00.jpg\">"
   ]
  },
  {
   "cell_type": "markdown",
   "metadata": {},
   "source": [
    "<img src=\"-iDBYwHgzxc.jpg\">"
   ]
  },
  {
   "cell_type": "code",
   "execution_count": 16,
   "metadata": {},
   "outputs": [],
   "source": [
    "def B(t):\n",
    "    return np.array([[np.sin(t), 0.15, 0.1, 0.3],\n",
    "                     [0.1, np.sin(t), 0.4, -0.05],\n",
    "                     [0.3, 0.1, np.sin(t), 0.1],\n",
    "                     [0.2, -0.12, 0.1, np.sin(t)]])\n",
    "\n",
    "c = np.array([0, 1, 2, 3])\n",
    "t = np.arange(-1, 1.1, 0.2)"
   ]
  },
  {
   "cell_type": "code",
   "execution_count": 17,
   "metadata": {},
   "outputs": [],
   "source": [
    "import matplotlib.pyplot as plt\n",
    "lst = []\n",
    "for i in t:\n",
    "    lst.append(np.linalg.norm(B(i), ord = np.inf))"
   ]
  },
  {
   "cell_type": "code",
   "execution_count": 18,
   "metadata": {},
   "outputs": [
    {
     "data": {
      "image/png": "[encoded data removed]",
      "text/plain": [
       "<Figure size 1440x720 with 1 Axes>"
      ]
     },
     "metadata": {
      "needs_background": "light"
     },
     "output_type": "display_data"
    }
   ],
   "source": [
    "plt.figure(figsize=(20,10))\n",
    "ax = plt.gca()\n",
    "ax.bar(t, lst, width=0.1)\n",
    "ax.set_xticks(t)\n",
    "plt.plot(t, np.ones(t.shape), c = 'r')\n",
    "plt.show()"
   ]
  },
  {
   "cell_type": "code",
   "execution_count": 19,
   "metadata": {},
   "outputs": [
    {
     "name": "stdout",
     "output_type": "stream",
     "text": [
      "x = [7.04071327 8.27104816 9.25392062 7.10962481]\n"
     ]
    }
   ],
   "source": [
    "x0=np.array([0,0,0,0])\n",
    "x_Seidel=Seidel(B(0.4), c, x0, 100, eps = 1e-5)[0]\n",
    "print('x =',x_Seidel)"
   ]
  },
  {
   "cell_type": "markdown",
   "metadata": {},
   "source": [
    "**Задание 4.6.3**"
   ]
  },
  {
   "cell_type": "markdown",
   "metadata": {},
   "source": [
    "<img src=\"IQdc-7yeWcU.jpg\">"
   ]
  },
  {
   "cell_type": "markdown",
   "metadata": {},
   "source": [
    "<img src=\"9Qo44B9HsiA.jpg\">"
   ]
  },
  {
   "cell_type": "code",
   "execution_count": 20,
   "metadata": {},
   "outputs": [],
   "source": [
    "n = 40\n",
    "diag = 150 * np.ones(n)\n",
    "diag_1 = 33 * np.ones(n-1)\n",
    "diag_5 = 17 * np.ones(n-5)\n",
    "diag_6 = 2 * np.ones(n-6)\n",
    "diag_8 = 1 * np.ones(n-8)\n",
    "b = np.arange(1, n+1) * np.exp(10/np.arange(1, n+1))"
   ]
  },
  {
   "cell_type": "code",
   "execution_count": 21,
   "metadata": {},
   "outputs": [],
   "source": [
    "A = np.diag(diag) + np. diag(diag_1, 1) + np.diag(diag_5, 5)+np.diag(diag_6, 6)+np.diag(diag_8, 8)"
   ]
  },
  {
   "cell_type": "code",
   "execution_count": 35,
   "metadata": {},
   "outputs": [],
   "source": [
    "def seidel (A, b, x0, iterations, eps):\n",
    "    x = np.zeros(shape=n)\n",
    "    x_prev = x0.copy()\n",
    "    for i in range(iterations):\n",
    "        for m in range(n):\n",
    "            sum1 = np.sum(A[m,j] * x[j] for j in range(m))\n",
    "            sum2 = np.sum(A[m,j] * x_prev[j] for j in range(m + 1, n))\n",
    "            x[m] = (b[m] - sum1 - sum2 ) / A[m,m]\n",
    "        if np.linalg.norm(x - x_prev) < eps:\n",
    "            return (x, i + 1)\n",
    "        x_prev = x.copy()\n",
    "    return (x, iterations)"
   ]
  },
  {
   "cell_type": "code",
   "execution_count": 37,
   "metadata": {},
   "outputs": [
    {
     "name": "stdout",
     "output_type": "stream",
     "text": [
      "x = [1.46414254e+02 1.85302937e+00 4.84081627e-01 2.64512862e-01\n",
      " 1.92955556e-01 1.61792891e-01 1.46320927e-01 1.38332468e-01\n",
      " 1.34424672e-01 1.32962466e-01 1.33069778e-01 1.34239498e-01\n",
      " 1.36162337e-01 1.38636615e-01 1.41517166e-01 1.44722111e-01\n",
      " 1.48182077e-01 1.51828597e-01 1.55625220e-01 1.59605304e-01\n",
      " 1.63628222e-01 1.67735291e-01 1.72013803e-01 1.76420420e-01\n",
      " 1.80528627e-01 1.85345959e-01 1.90026055e-01 1.94203349e-01\n",
      " 1.98086059e-01 2.04452469e-01 2.04847890e-01 2.08642757e-01\n",
      " 2.14518305e-01 2.22825128e-01 2.14731784e-01 2.58916488e-01\n",
      " 2.63317189e-01 2.72248719e-01 2.60664033e-01 3.42406778e-01]\n"
     ]
    },
    {
     "name": "stderr",
     "output_type": "stream",
     "text": [
      "C:\\Users\\katek\\Anaconda3\\lib\\site-packages\\ipykernel_launcher.py:6: DeprecationWarning: Calling np.sum(generator) is deprecated, and in the future will give a different result. Use np.sum(np.from_iter(generator)) or the python sum builtin instead.\n",
      "  \n",
      "C:\\Users\\katek\\Anaconda3\\lib\\site-packages\\ipykernel_launcher.py:7: DeprecationWarning: Calling np.sum(generator) is deprecated, and in the future will give a different result. Use np.sum(np.from_iter(generator)) or the python sum builtin instead.\n",
      "  import sys\n"
     ]
    }
   ],
   "source": [
    "x0=np.zeros(n)\n",
    "x_Seidel=seidel(A, b, x0, 1000, 1e-5)[0]\n",
    "print('x =',x_Seidel)"
   ]
  },
  {
   "cell_type": "code",
   "execution_count": null,
   "metadata": {},
   "outputs": [],
   "source": []
  }
 ],
 "metadata": {
  "kernelspec": {
   "display_name": "Python 3",
   "language": "python",
   "name": "python3"
  },
  "language_info": {
   "codemirror_mode": {
    "name": "ipython",
    "version": 3
   },
   "file_extension": ".py",
   "mimetype": "text/x-python",
   "name": "python",
   "nbconvert_exporter": "python",
   "pygments_lexer": "ipython3",
   "version": "3.7.1"
  }
 },
 "nbformat": 4,
 "nbformat_minor": 2
}
