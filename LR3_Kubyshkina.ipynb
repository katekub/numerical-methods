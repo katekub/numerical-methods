{
 "cells": [
  {
   "cell_type": "markdown",
   "metadata": {},
   "source": [
    "**Лабораторная работа 3, Кубышкина Екатерина, 11 вариант**"
   ]
  },
  {
   "cell_type": "markdown",
   "metadata": {},
   "source": [
    "**Задача 3.1.11**"
   ]
  },
  {
   "cell_type": "markdown",
   "metadata": {},
   "source": [
    "Метод Гаусса\n",
    "\n",
    "Прямой ход состоит из $n-1$ шагов исключения.\n",
    "\n",
    "1-й шаг. Целью этого шага является исключение неизвестного $x_1$ из уравнений с номерами $i = 2, 3, …, n$. \n",
    "Предположим, что коэффициент $a_{11}≠0$.Будем называть его главным элементом 1-го шага. \n",
    "Вычтем последовательно из второго, третьего, …, n-го уравнений системы первое уравнение, \n",
    "умноженное на соответствующий множитель.\n",
    "\n",
    "2-й шаг. Целью этого шага является исключение неизвестного $x_2$ из уравнений с номерами $i = 3, 4, …, n$. \n",
    "Вычтем последовательно из третьего, четвертого, …, n-го уравнения системы второе уравнение, \n",
    "умноженное на соответствующий множитель.\n",
    "\n",
    "Аналогично проводятся остальные шаги.\n",
    "\n",
    "После $(n - 1)$-го шага исключения получим систему уравнений, матрица $A$ которой является верхней треугольной. \n",
    "На этом вычисления прямого хода заканчиваются.\n",
    "\n",
    "Обратный ход. Из последнего уравнения системы находим $x_n$. \n",
    "Подставляя его в предпоследнее уравнение найдем $x_{n-1}$. И так далее вплоть до $x_1$"
   ]
  },
  {
   "cell_type": "markdown",
   "metadata": {},
   "source": [
    "Число обусловленности\n",
    "\n",
    "Число обусловленности матрицы показывает насколько матрица близка к матрице неполного ранга \n",
    "(для квадратных матриц - к вырожденности). Число обусловленности $cond(A)$ является количественной оценкой обусловленности. \n",
    "Отметим, что всегда $cond (A) ≥ 1$. Если $cond(A) ≥ 10^3$ , то говорят, что матрица $A$ плохо обусловлена. Если\n",
    "$1 ≤ cond(A) ≤ 100$, то матрица считается хорошо обусловленной. "
   ]
  },
  {
   "cell_type": "code",
   "execution_count": 40,
   "metadata": {},
   "outputs": [],
   "source": [
    "import numpy as np\n",
    "import copy\n",
    "import matplotlib.pyplot as plt\n",
    "\n",
    "N=11\n",
    "n=4\n",
    "\n",
    "def c(i,j):\n",
    "    return 0.1*N*i*j "
   ]
  },
  {
   "cell_type": "markdown",
   "metadata": {},
   "source": [
    "1) Задать матрицу системы A и вектор правой части b. Используя встроенную функцию numpy.linalg.solve, найти решение x системы Ax=b с помощью метода Гаусса"
   ]
  },
  {
   "cell_type": "code",
   "execution_count": 13,
   "metadata": {},
   "outputs": [
    {
     "name": "stdout",
     "output_type": "stream",
     "text": [
      "[[0.01492537 0.01492537 0.01492537 0.01492537]\n",
      " [0.01492537 0.0146062  0.01105882 0.00538816]\n",
      " [0.01492537 0.01105882 0.00226342 0.00050904]\n",
      " [0.01492537 0.00538816 0.00050904 0.00010338]]\n",
      "[[11.]\n",
      " [11.]\n",
      " [11.]\n",
      " [11.]]\n"
     ]
    }
   ],
   "source": [
    "A=np.array([[1/(67+c(i,j)**4) for j in range(n)] for i in range(n)])\n",
    "print(A)\n",
    "b=np.array([float(N)]*4)\n",
    "b=b.reshape(4,1)\n",
    "print(b)"
   ]
  },
  {
   "cell_type": "code",
   "execution_count": 15,
   "metadata": {},
   "outputs": [
    {
     "data": {
      "text/plain": [
       "array([[737.],\n",
       "       [ -0.],\n",
       "       [ -0.],\n",
       "       [ -0.]])"
      ]
     },
     "execution_count": 15,
     "metadata": {},
     "output_type": "execute_result"
    }
   ],
   "source": [
    "x2=np.linalg.solve(A,b)\n",
    "x2.reshape(4,1)"
   ]
  },
  {
   "cell_type": "markdown",
   "metadata": {},
   "source": [
    "2) С помощью встроенной функции numpy.linag.cond вычислить число обусловленности матрицы A"
   ]
  },
  {
   "cell_type": "code",
   "execution_count": 17,
   "metadata": {},
   "outputs": [
    {
     "data": {
      "text/plain": [
       "23.94547108996224"
      ]
     },
     "execution_count": 17,
     "metadata": {},
     "output_type": "execute_result"
    }
   ],
   "source": [
    "np.linalg.cond(A)"
   ]
  },
  {
   "cell_type": "markdown",
   "metadata": {},
   "source": [
    "3)  Принимая решение $x$, полученное в п.1, за точное, вычислить вектор $d=(d_1, .. , d_n)^T$, $d_i=\\frac{||x-x^i||}{||x||}$, $i=1,..,n$ относительных погрешностей решений систем $x^i$ систем $Ax^i=b^i$, $i=1,..,n$, где компоненты векторов $b^i$ вычисляются по формулам: \\begin{equation*}\n",
    "b^i_k = \n",
    " \\begin{cases}\n",
    "    b_k + \\Delta, k=i\\\\\n",
    "   b_k, k\\neq i\n",
    " \\end{cases}\n",
    "\\end{equation*}\n",
    "(∆ − произвольная величина погрешности)"
   ]
  },
  {
   "cell_type": "code",
   "execution_count": 29,
   "metadata": {},
   "outputs": [
    {
     "name": "stdout",
     "output_type": "stream",
     "text": [
      "[[1.87140079e-05]\n",
      " [3.43743723e-05]\n",
      " [3.69663551e-05]\n",
      " [2.78737410e-05]]\n"
     ]
    }
   ],
   "source": [
    "eps=0.0001\n",
    "x=copy.copy(x1)\n",
    "\n",
    "def vector_d(A, b):\n",
    "    d = np.ones(n)\n",
    "    for i in range(n):\n",
    "        b_i = np.ones(n)\n",
    "        for j in range(n):\n",
    "            if (j == i):\n",
    "                b_i[j] = b[j]+eps\n",
    "            else:\n",
    "                b_i[j] = b[j]\n",
    "        x_i = np.linalg.solve(A, b_i)\n",
    "        d_i = np.linalg.norm(x-x_i, np.inf)/np.linalg.norm(x, np.inf)\n",
    "        d[i] = d_i\n",
    "    return d\n",
    "print(d.reshape(4,1))"
   ]
  },
  {
   "cell_type": "markdown",
   "metadata": {},
   "source": [
    "4) Определить компоненту $b_m$ вектора $b$, которая оказывает наибольшее влияние на погрешность решения. "
   ]
  },
  {
   "cell_type": "code",
   "execution_count": 32,
   "metadata": {},
   "outputs": [
    {
     "data": {
      "image/png": "[encoded data removed]",
      "text/plain": [
       "<Figure size 432x288 with 1 Axes>"
      ]
     },
     "metadata": {},
     "output_type": "display_data"
    },
    {
     "name": "stdout",
     "output_type": "stream",
     "text": [
      "3.696635510094954e-05\n"
     ]
    }
   ],
   "source": [
    "xhist=np.arange(1,n+1)\n",
    "yhist=copy.copy(d)\n",
    "plt.bar(xhist,yhist)\n",
    "plt.show()\n",
    "print(max(d))"
   ]
  },
  {
   "cell_type": "markdown",
   "metadata": {},
   "source": [
    "Значит, макс погрешностьу 3 компоненты вектора"
   ]
  },
  {
   "cell_type": "code",
   "execution_count": 30,
   "metadata": {},
   "outputs": [
    {
     "name": "stdout",
     "output_type": "stream",
     "text": [
      "[0.3742801593572394, 0.6874874487269234, 0.7393271039589584, 0.5574748222718826]\n",
      "2\n"
     ]
    }
   ],
   "source": [
    "ds = []\n",
    "for i in range(n):\n",
    "    b_m=np.array([float(N)]*4)\n",
    "    b_m[i] += 1\n",
    "    ds.append(np.linalg.norm(vector_d(A, b_m)))\n",
    "\n",
    "print(ds)\n",
    "max_value = max(ds)\n",
    "max_index = ds.index(max_value)\n",
    "print(max_index)"
   ]
  },
  {
   "cell_type": "markdown",
   "metadata": {},
   "source": [
    "5) Оценить теоретически погрешность решения $x^m$ по формуле: $\\delta(x^m)\\leq cond(A)\\cdot\\delta(b^m)$. Сравнить $\\delta(x^m)$ \n",
    "    со значением практической погрешности $d^m$.\n",
    "Объяснить полученные результаты"
   ]
  },
  {
   "cell_type": "code",
   "execution_count": 36,
   "metadata": {},
   "outputs": [
    {
     "name": "stdout",
     "output_type": "stream",
     "text": [
      "Сама погрешность =  0.0023945471089962243\n"
     ]
    }
   ],
   "source": [
    "pg = np.linalg.cond(A)*eps\n",
    "print('Сама погрешность = ',pg)"
   ]
  },
  {
   "cell_type": "code",
   "execution_count": 37,
   "metadata": {},
   "outputs": [
    {
     "name": "stdout",
     "output_type": "stream",
     "text": [
      "True\n",
      "True\n",
      "True\n",
      "True\n"
     ]
    }
   ],
   "source": [
    "for i in range(n):\n",
    "    print(d[i]<=pg)"
   ]
  },
  {
   "cell_type": "markdown",
   "metadata": {},
   "source": [
    "Погрешность решения по формуле всегда меньше самой погрешности"
   ]
  },
  {
   "cell_type": "markdown",
   "metadata": {},
   "source": [
    "Практическая погрешность 3.696635510094954e-05 меньше теоретической 0.0023945471089962243, т.к. теоретическая погрешность не вычисляется с должной точностью"
   ]
  },
  {
   "cell_type": "markdown",
   "metadata": {},
   "source": [
    "**Задача 3.3.3**"
   ]
  },
  {
   "cell_type": "markdown",
   "metadata": {},
   "source": [
    "Дана матрица $A$. Найти число обусловленности матрицы, используя вычислительный эксперимент"
   ]
  },
  {
   "cell_type": "code",
   "execution_count": 92,
   "metadata": {},
   "outputs": [
    {
     "name": "stdout",
     "output_type": "stream",
     "text": [
      "[[ 1  1  1  1  1]\n",
      " [ 1  2  3  4  5]\n",
      " [ 1  3  6 10 15]\n",
      " [ 1  4 10 20 35]\n",
      " [ 1  5 15 35 70]]\n"
     ]
    }
   ],
   "source": [
    "A=np.array([[1,1,1,1,1],[1,2,3,4,5],[1,3,6,10,15],[1,4,10,20,35],[1,5,15,35,70]])\n",
    "print(A)"
   ]
  },
  {
   "cell_type": "markdown",
   "metadata": {},
   "source": [
    "1) Выбрать последовательность линейно независимых векторов $b^i, i= 1,..,k$. Решить $k$ систем уравнений $Ax^i=b^i$, используя\n",
    "встроенную функцию numpy.linalg.solve\n",
    "\n",
    "2)  Для каждого найденного решения $x^i$ вычислить отношение $\\frac{||x^i||}{||b^i||}, i=1,..k$"
   ]
  },
  {
   "cell_type": "code",
   "execution_count": 94,
   "metadata": {},
   "outputs": [
    {
     "name": "stdout",
     "output_type": "stream",
     "text": [
      "[93.0, 1.0, 21.75]\n",
      "[array([  94., -294.,  372., -216.,   48.]), array([11.,  0., -0., -0., -0.]), array([  1., -45.,  87., -61.,  15.])]\n"
     ]
    }
   ],
   "source": [
    "k=3\n",
    "b=[[4,-2,4,-2,4],[11,11,11,11,11],[-3,3,3,-4,-4]]\n",
    "b2=[[3.99,-2.01,3.99,-2.01,3.99],[4,-2,4,-2,4],[4.01,-1.99,4.01,-1.99,4.01]]\n",
    "g=[]\n",
    "x=[]\n",
    "\n",
    "for i in range(k):\n",
    "    x_i=np.linalg.solve(A,b[i])\n",
    "    x.append(x_i)\n",
    "    g.append(np.linalg.norm(x_i, np.inf)/np.linalg.norm(b[i], np.inf)) \n",
    "print(g)\n",
    "print(x)"
   ]
  },
  {
   "cell_type": "markdown",
   "metadata": {},
   "source": [
    "3) Вычислить норму матрицы $A^{-1}$  по формуле $||A^{-1}||\\approx max \\frac{||x^i||}{||b^i||}$"
   ]
  },
  {
   "cell_type": "code",
   "execution_count": 95,
   "metadata": {},
   "outputs": [
    {
     "name": "stdout",
     "output_type": "stream",
     "text": [
      "93.0\n"
     ]
    }
   ],
   "source": [
    "norm_A=max(g)\n",
    "print(norm_A)"
   ]
  },
  {
   "cell_type": "markdown",
   "metadata": {},
   "source": [
    "4) Вычислить число обусловленности матрицы $A$ по формуле $cond(A) = ||A|| \\cdot ||A^{-1}||$"
   ]
  },
  {
   "cell_type": "code",
   "execution_count": 96,
   "metadata": {},
   "outputs": [
    {
     "name": "stdout",
     "output_type": "stream",
     "text": [
      "11718.0\n"
     ]
    }
   ],
   "source": [
    "numb_A=np.linalg.norm(A,np.inf)*norm_A\n",
    "print(numb_A)"
   ]
  },
  {
   "cell_type": "code",
   "execution_count": 93,
   "metadata": {},
   "outputs": [
    {
     "data": {
      "text/plain": [
       "15624.0"
      ]
     },
     "execution_count": 93,
     "metadata": {},
     "output_type": "execute_result"
    }
   ],
   "source": [
    "np.linalg.cond(A,np.inf)"
   ]
  },
  {
   "cell_type": "markdown",
   "metadata": {},
   "source": [
    "Не понимаю, почему числа получились разные. Все вычисления провела в одной норме. Возможно, все же влияет погрешность при \n",
    "вычислении нормы обратной матрицы"
   ]
  },
  {
   "cell_type": "markdown",
   "metadata": {},
   "source": [
    "**Задача 3.10.3**"
   ]
  },
  {
   "cell_type": "markdown",
   "metadata": {},
   "source": [
    "Дана система уравнений $Ax=b$ порядка $n$ с разреженной матрицей $A$. Решить систему методом прогонки"
   ]
  },
  {
   "cell_type": "markdown",
   "metadata": {},
   "source": [
    "Метод прогонки является частным случаем метода Гаусса и применяется к системам с трех-пятидиагональной матрицей. \n",
    "Метод прогонки состоит из двух этапов: прямой прогонки и обратной прогонки. На первом этапе определяются прогоночные \n",
    "коэффициенты, а на втором – находят неизвестные $x_1,x_2,...,x_n$. \n",
    "1. В первой строке матрицы (i=1) используются формулы:\n",
    "    $y_1=b_1, \\alpha_1=frac{-c_1}{y_1}, \\beta_1=frac{d_1}{y_1}$\n",
    "2. Для строк $i$ от 2 до $n-1$ используются реккурентные формулы:\n",
    "    $y_i=b_i+a_i\\cdot\\alpha_{i-1}, \\alpha_i=frac{-c_i}{y_i}, \\beta_i=frac{d_i-\\alpha_i\\beta_{i-1}}{y_i}$\n",
    "3. Для $i=n$:\n",
    "     $y_n=b_n+a_n\\cdot\\alpha_{n-1}, \\beta_n=frac{d_n-\\alpha_n\\beta_{n-1}}{y_n}$\n",
    "После этого производится обратная прогонка, в которой происходит вычисление неизвестных $x_i$.\n",
    "4. $x_n=\\beta_n$\n",
    "5. $x_n=\\alpha_i\\cdot x_{i+1}+\\beta_i, i=n-1,..,1$"
   ]
  },
  {
   "cell_type": "code",
   "execution_count": 119,
   "metadata": {},
   "outputs": [
    {
     "name": "stdout",
     "output_type": "stream",
     "text": [
      "[[100.   1.   1. ...   0.   0.   0.]\n",
      " [  0. 100.   1. ...   0.   0.   0.]\n",
      " [  3.   0. 100. ...   0.   0.   0.]\n",
      " ...\n",
      " [  0.   0.   0. ... 100.   1.   1.]\n",
      " [  0.   0.   0. ...   0. 100.   1.]\n",
      " [  0.   0.   0. ...   3.   0. 100.]]\n"
     ]
    }
   ],
   "source": [
    "#матрица из условия задачи\n",
    "n=40\n",
    "buf = np.zeros((n, n))\n",
    "flat = buf.ravel()\n",
    "flat[0::n+1] = 100\n",
    "flat[2*n::n+1] = 3\n",
    "flat[1::n+1] = 1\n",
    "flat[2::n+1] = 1\n",
    "buf[n-1,0]=0\n",
    "print(buf)"
   ]
  },
  {
   "cell_type": "code",
   "execution_count": 104,
   "metadata": {},
   "outputs": [],
   "source": [
    "#вектор b\n",
    "b=[]\n",
    "for i in range(n):\n",
    "    b.append((i+1)*np.exp(10/(i+1)))"
   ]
  },
  {
   "cell_type": "code",
   "execution_count": 135,
   "metadata": {},
   "outputs": [],
   "source": [
    "#метод прогонки для трехдиагональной матрицы\n",
    "def progon(A,b):\n",
    "    alpha = [0]\n",
    "    beta = [0]\n",
    "    x = [0]*n\n",
    "    flat = A.ravel()\n",
    "    a=flat[0::n+1] #главная диагональ\n",
    "    c=flat[n::n+1] # диагональ под главной\n",
    "    d=flat[1::n+1] # диагональ над главной\n",
    "    for i in range(n-1):\n",
    "        alpha.append(-d[i]/(c[i]*alpha[i] + a[i]))\n",
    "        beta.append((b[i] - c[i]*beta[i])/(c[i]*alpha[i] + a[i]))\n",
    "\n",
    "    x[n-1] = (b[n-1] - c[n-2]*beta[n-1])/(a[n-1] + c[n-2]*alpha[n-1])\n",
    "\n",
    "    for i in reversed(range(n-1)):\n",
    "        x[i] = alpha[i+1]*x[i+1] + beta[i+1]\n",
    "\n",
    "    return x"
   ]
  },
  {
   "cell_type": "code",
   "execution_count": 131,
   "metadata": {},
   "outputs": [
    {
     "name": "stdout",
     "output_type": "stream",
     "text": [
      "[[100.   1.   0. ...   0.   0.   0.]\n",
      " [  3. 100.   1. ...   0.   0.   0.]\n",
      " [  0.   3. 100. ...   0.   0.   0.]\n",
      " ...\n",
      " [  0.   0.   0. ... 100.   1.   0.]\n",
      " [  0.   0.   0. ...   3. 100.   1.]\n",
      " [  0.   0.   0. ...   0.   3. 100.]]\n"
     ]
    }
   ],
   "source": [
    "# еще одна матрица, не как в условии, но для которой работает метод\n",
    "A = np.zeros((n, n))\n",
    "flat = A.ravel()\n",
    "flat[0::n+1] = 100\n",
    "flat[n::n+1] = 3\n",
    "flat[1::n+1] = 1\n",
    "A[n-1,0]=0\n",
    "print(A)"
   ]
  },
  {
   "cell_type": "code",
   "execution_count": 132,
   "metadata": {},
   "outputs": [
    {
     "name": "stdout",
     "output_type": "stream",
     "text": [
      "[220.3011602544944, -3.650230642721879, 0.9459017138579828, 0.45539522594576975, 0.3527481066629703, 0.3042841505189133, 0.28028093093993595, 0.26819163963634035, 0.2627369032408864, 0.261320754659682, 0.26253210889958406, 0.2655427769156789, 0.26983667244725623, 0.2750763658571363, 0.2810323806705904, 0.2875434511896898, 0.29449305793479896, 0.3017949868097989, 0.3093841206179525, 0.31721038398561574, 0.32523465358714004, 0.3334259297488047, 0.3417593389451095, 0.35021469642165065, 0.35877545431673014, 0.3674279200937926, 0.3761606677449791, 0.3849640885981491, 0.393830044653529, 0.402751598197802, 0.41172279884190366, 0.42073851426474684, 0.4297942945610874, 0.4388862626710419, 0.4480110252304819, 0.4571655995959261, 0.4663473483442678, 0.4755544588046473, 0.4847329711952084, 0.4990681775392403]\n"
     ]
    }
   ],
   "source": [
    "print(progon(A,b))"
   ]
  },
  {
   "cell_type": "code",
   "execution_count": 136,
   "metadata": {},
   "outputs": [
    {
     "name": "stdout",
     "output_type": "stream",
     "text": [
      "[220.30116025  -3.65023064   0.94590171   0.45539523   0.35274811\n",
      "   0.30428415   0.28028093   0.26819164   0.2627369    0.26132075\n",
      "   0.26253211   0.26554278   0.26983667   0.27507637   0.28103238\n",
      "   0.28754345   0.29449306   0.30179499   0.30938412   0.31721038\n",
      "   0.32523465   0.33342593   0.34175934   0.3502147    0.35877545\n",
      "   0.36742792   0.37616067   0.38496409   0.39383004   0.4027516\n",
      "   0.4117228    0.42073851   0.42979429   0.43888626   0.44801103\n",
      "   0.4571656    0.46634735   0.47555446   0.48473297   0.49906818]\n"
     ]
    }
   ],
   "source": [
    "print(np.linalg.solve(A,b))"
   ]
  },
  {
   "cell_type": "code",
   "execution_count": null,
   "metadata": {},
   "outputs": [],
   "source": []
  }
 ],
 "metadata": {
  "kernelspec": {
   "display_name": "Python 3",
   "language": "python",
   "name": "python3"
  },
  "language_info": {
   "codemirror_mode": {
    "name": "ipython",
    "version": 3
   },
   "file_extension": ".py",
   "mimetype": "text/x-python",
   "name": "python",
   "nbconvert_exporter": "python",
   "pygments_lexer": "ipython3",
   "version": "3.7.1"
  }
 },
 "nbformat": 4,
 "nbformat_minor": 2
}
