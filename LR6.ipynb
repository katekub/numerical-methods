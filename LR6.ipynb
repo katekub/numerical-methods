{
 "cells": [
  {
   "cell_type": "markdown",
   "metadata": {},
   "source": [
    "**Кубышкина Екатерина**\n",
    "\n",
    "\n",
    "**Лабораторная 6**\n",
    "\n",
    "\n",
    "**вариант 11**\n",
    "\n",
    "\n",
    "задачи 6.1.11, 6.3.4, 6.7.4, 6.6.11, 6.9.11\n"
   ]
  },
  {
   "cell_type": "markdown",
   "metadata": {},
   "source": [
    "**6.1.11**\n",
    "\n",
    "Вычислить значение интеграла $I=\\int\\limits_1^{1.44} P_n(x)dx$, где $P_n(x)=\\sum\\limits_{i=0}^nc_ix^i$\n",
    "с помощью квадратурных формул трапеций и Симпсона для элементарного\n",
    "отрезка интегрирования. Оценить величину погрешности. Применяя те же\n",
    "квадратурные формулы для составного отрезка интегрирования, вычислить\n",
    "интеграл $I$ с точностью $0.0001$. Предварительно оценить шаг\n",
    "интегрирования, при котором достигается заданная точность. "
   ]
  },
  {
   "cell_type": "code",
   "execution_count": 1,
   "metadata": {},
   "outputs": [],
   "source": [
    "import numpy as np\n",
    "import sympy\n",
    "import pandas as pd\n",
    "import matplotlib.pyplot as plt"
   ]
  },
  {
   "cell_type": "code",
   "execution_count": 2,
   "metadata": {},
   "outputs": [],
   "source": [
    "def P(x):\n",
    "    return 2.2+0.7*x+4.5*x**2+0.8*x**3+0.6*x**4"
   ]
  },
  {
   "cell_type": "markdown",
   "metadata": {},
   "source": [
    "1.  Вычислить значение интеграла $I$ аналитически."
   ]
  },
  {
   "cell_type": "markdown",
   "metadata": {},
   "source": [
    "$I=\\int\\limits_1^{1.44}(2.2+0.7x+4.5x^2+0.8x^3+0.6x^4) dx = 5.605707762688 $"
   ]
  },
  {
   "cell_type": "code",
   "execution_count": 4,
   "metadata": {},
   "outputs": [],
   "source": [
    "an_ans=5.605707762688"
   ]
  },
  {
   "cell_type": "markdown",
   "metadata": {},
   "source": [
    "2. Вычислить значение интеграла $I$ по формулам трапеций и Симпсона, считая отрезок $[1,1.44]$ элементарным отрезком\n",
    "интегрирования."
   ]
  },
  {
   "cell_type": "code",
   "execution_count": 21,
   "metadata": {},
   "outputs": [],
   "source": [
    "def trapeze_elem(f, a,b):\n",
    "    return (b - a ) / 2 * (f(a) + f(b))\n",
    "\n",
    "def trapeze(f,a,b,n):\n",
    "    h = float(b - a)/n\n",
    "    result = 0.5*(f(a) + f(b))\n",
    "    for i in range(1, n):\n",
    "        result += f(a + i*h)\n",
    "    result *= h\n",
    "    return result\n"
   ]
  },
  {
   "cell_type": "code",
   "execution_count": 22,
   "metadata": {},
   "outputs": [],
   "source": [
    "def simpson_elem (f, a,b):\n",
    "    return (b - a)/ 6 *(f(a) + f(b) + 4 * f((a + b) / 2))\n",
    "\n",
    "def simpson(f, a, b, n): #n-четное\n",
    "    h=float(b-a)/n\n",
    "    k=0.0\n",
    "    x=a + h\n",
    "    for i in range(1,int(n/2) + 1):\n",
    "        k += 4*f(x)\n",
    "        x += 2*h\n",
    "\n",
    "    x = a + 2*h\n",
    "    for i in range(1,int(n/2)):\n",
    "        k += 2*f(x)\n",
    "        x += 2*h\n",
    "    return (h/3)*(f(a)+f(b)+k)"
   ]
  },
  {
   "cell_type": "code",
   "execution_count": 23,
   "metadata": {},
   "outputs": [
    {
     "name": "stdout",
     "output_type": "stream",
     "text": [
      "По формуле трапеций I = 5.787733022720\n",
      "По формуле Cимпсона I = 5.605790220800\n"
     ]
    }
   ],
   "source": [
    "a=1\n",
    "b=1.44\n",
    "trap_ans=trapeze_elem(P,a,b)\n",
    "print('По формуле трапеций I = %.12f'%(trap_ans))\n",
    "sim_ans=simpson_elem (P, a,b)\n",
    "print('По формуле Cимпсона I = %.12f'%(sim_ans))"
   ]
  },
  {
   "cell_type": "markdown",
   "metadata": {},
   "source": [
    "3. Найти абсолютные погрешности результатов"
   ]
  },
  {
   "cell_type": "code",
   "execution_count": 25,
   "metadata": {},
   "outputs": [
    {
     "name": "stdout",
     "output_type": "stream",
     "text": [
      "Абс погрешность трапеций = 0.182025260032\n",
      "Абс погрешность Cимпсона = 0.000082458112\n"
     ]
    }
   ],
   "source": [
    "print('Абс погрешность трапеций = %.12f'%(abs(an_ans-trap_ans)))\n",
    "print('Абс погрешность Cимпсона = %.12f'%(abs(an_ans-sim_ans)))"
   ]
  },
  {
   "cell_type": "markdown",
   "metadata": {},
   "source": [
    "4. Используя выражение для остаточных членов интегрирования, оценить шаги интегрирования, при которых величина\n",
    "погрешности каждой квадратурной формулы будет меньше $0.0001$.\n"
   ]
  },
  {
   "cell_type": "markdown",
   "metadata": {},
   "source": [
    "метод трапеций:"
   ]
  },
  {
   "cell_type": "code",
   "execution_count": 27,
   "metadata": {},
   "outputs": [],
   "source": [
    "def p2(x):\n",
    "    return abs(9+4.8*x+7.2*x*x)"
   ]
  },
  {
   "cell_type": "code",
   "execution_count": 28,
   "metadata": {},
   "outputs": [
    {
     "data": {
      "text/plain": [
       "[<matplotlib.lines.Line2D at 0x1b5185cdb00>]"
      ]
     },
     "execution_count": 28,
     "metadata": {},
     "output_type": "execute_result"
    },
    {
     "data": {
      "image/png": "[encoded data removed]",
      "text/plain": [
       "<Figure size 432x288 with 1 Axes>"
      ]
     },
     "metadata": {
      "needs_background": "light"
     },
     "output_type": "display_data"
    }
   ],
   "source": [
    "x = np.linspace(1,1.44,100)\n",
    "import matplotlib.pyplot as plt\n",
    "plt.plot(x, p2(x))"
   ]
  },
  {
   "cell_type": "markdown",
   "metadata": {},
   "source": [
    "Значит, максимум в точке $1.44$, => $M_2=30.84192$"
   ]
  },
  {
   "cell_type": "code",
   "execution_count": 36,
   "metadata": {},
   "outputs": [
    {
     "name": "stdout",
     "output_type": "stream",
     "text": [
      "Нормальный шаг интегрирования для метода трапеций: 0.006875 \n"
     ]
    }
   ],
   "source": [
    "M2=30.84192\n",
    "h_t=b-a\n",
    "while M2*(b-a)*h_t**2/12 >= 0.0001:\n",
    "    h_t /= 2\n",
    "print('Нормальный шаг интегрирования для метода трапеций: %.6f '% (h_t))"
   ]
  },
  {
   "cell_type": "markdown",
   "metadata": {},
   "source": [
    "формула Симпсона:"
   ]
  },
  {
   "cell_type": "code",
   "execution_count": 37,
   "metadata": {},
   "outputs": [
    {
     "name": "stdout",
     "output_type": "stream",
     "text": [
      "Нормальный шаг интегрирования для формулы Симпсона: 0.440000 \n"
     ]
    }
   ],
   "source": [
    "M4=14.4\n",
    "h_s=b-a\n",
    "while M4*(b-a)*h_s**4/2880 >= 0.0001:\n",
    "    h_s /= 2\n",
    "print('Нормальный шаг интегрирования для формулы Симпсона: %.6f '% (h_s))"
   ]
  },
  {
   "cell_type": "markdown",
   "metadata": {},
   "source": [
    "5. Вычислить значения интеграла по составной квадратурной формуле с найденным шагом"
   ]
  },
  {
   "cell_type": "code",
   "execution_count": 39,
   "metadata": {},
   "outputs": [
    {
     "name": "stdout",
     "output_type": "stream",
     "text": [
      "По формуле трапеций I = 5.605752282955\n"
     ]
    }
   ],
   "source": [
    "n=int((b-a)/h_t)\n",
    "trap_ans=trapeze(P,a,b,n)\n",
    "print('По формуле трапеций I = %.12f'%(trap_ans))"
   ]
  },
  {
   "cell_type": "code",
   "execution_count": 42,
   "metadata": {},
   "outputs": [
    {
     "name": "stdout",
     "output_type": "stream",
     "text": [
      "1\n"
     ]
    }
   ],
   "source": [
    "n=int((b-a)/h_s)\n",
    "print(n)"
   ]
  },
  {
   "cell_type": "code",
   "execution_count": 43,
   "metadata": {},
   "outputs": [
    {
     "name": "stdout",
     "output_type": "stream",
     "text": [
      "По формуле Cимпсона I = 5.605790220800\n"
     ]
    }
   ],
   "source": [
    "sim_ans=simpson_elem(P,a,b)\n",
    "print('По формуле Cимпсона I = %.12f'%(sim_ans))"
   ]
  },
  {
   "cell_type": "markdown",
   "metadata": {},
   "source": [
    "6. Найти абсолютные погрешности результатов"
   ]
  },
  {
   "cell_type": "code",
   "execution_count": 44,
   "metadata": {},
   "outputs": [
    {
     "name": "stdout",
     "output_type": "stream",
     "text": [
      "Абс погрешность трапеций = 0.000044520267\n",
      "Абс погрешность Cимпсона = 0.000082458112\n"
     ]
    }
   ],
   "source": [
    "print('Абс погрешность трапеций = %.12f'%(abs(an_ans-trap_ans)))\n",
    "print('Абс погрешность Cимпсона = %.12f'%(abs(an_ans-sim_ans)))"
   ]
  },
  {
   "cell_type": "markdown",
   "metadata": {},
   "source": [
    "**6.3.4**\n",
    "\n",
    "Вычислить значение интеграла $\\int\\limits_a^{b} f(x)dx$ аналитически и, используя формулу центральных прямоугольников, с шагами $h:\n",
    "\\frac{b-a}{2}, \\frac{b-a}{3} ... \\frac{b-a}{20}$. При указанных значениях $h$ найти абсолютную погрешность\n",
    "и оценки теоретической абсолютной погрешности. На одном чертеже построить графики найденных погрешностей."
   ]
  },
  {
   "cell_type": "code",
   "execution_count": 47,
   "metadata": {},
   "outputs": [],
   "source": [
    "def f(x):\n",
    "    return (x**2-2*x**3)*np.cos(x**2)"
   ]
  },
  {
   "cell_type": "markdown",
   "metadata": {},
   "source": [
    "Аналитически: $\\int\\limits_{-3}^{0} (x^2-2x^3)cos(x^2)dx = 2.02933$ "
   ]
  },
  {
   "cell_type": "code",
   "execution_count": 48,
   "metadata": {},
   "outputs": [],
   "source": [
    "def rectangular(f, a, b, n):\n",
    "    h = float(b - a)/n\n",
    "    result = f(a+0.5*h)\n",
    "    for i in range(1, n):\n",
    "        result += f(a + 0.5*h + i*h)\n",
    "    result *= h\n",
    "    return result"
   ]
  },
  {
   "cell_type": "code",
   "execution_count": 50,
   "metadata": {},
   "outputs": [],
   "source": [
    "a = -3\n",
    "b = 0\n",
    "an_ans = 2.02933\n",
    "n_all = np.array([n for n in np.arange(2,21)])"
   ]
  },
  {
   "cell_type": "code",
   "execution_count": 56,
   "metadata": {},
   "outputs": [],
   "source": [
    "def p2(x):\n",
    "    return abs(2*  (14*x-5)*(x**2)*np.sin(x**2)+(4*x**5-2*x**4-6*x+1)*np.cos(x**2) )"
   ]
  },
  {
   "cell_type": "code",
   "execution_count": 57,
   "metadata": {},
   "outputs": [
    {
     "name": "stdout",
     "output_type": "stream",
     "text": [
      "M2 =  881.8198927875362\n"
     ]
    }
   ],
   "source": [
    "x_s = np.linspace(a,b,10000)\n",
    "M2 = np.max(p2(x_s))\n",
    "print(\"M2 = \",M2)"
   ]
  },
  {
   "cell_type": "code",
   "execution_count": 58,
   "metadata": {},
   "outputs": [],
   "source": [
    "results = []\n",
    "abs_pogr = []\n",
    "theor_pogr = []\n",
    "for n in n_all:\n",
    "    res = rectangular(f,a,b,n)\n",
    "    results.append(res)\n",
    "    abs_pogr.append(abs(an_ans - res))\n",
    "    theor_pogr.append(M2*(b-a)*((b-a)/n)**2/24)"
   ]
  },
  {
   "cell_type": "code",
   "execution_count": 61,
   "metadata": {},
   "outputs": [
    {
     "data": {
      "text/plain": [
       "<matplotlib.legend.Legend at 0x1b519adc4e0>"
      ]
     },
     "execution_count": 61,
     "metadata": {},
     "output_type": "execute_result"
    },
    {
     "data": {
      "image/png": "[encoded data removed]",
      "text/plain": [
       "<Figure size 720x504 with 1 Axes>"
      ]
     },
     "metadata": {
      "needs_background": "light"
     },
     "output_type": "display_data"
    }
   ],
   "source": [
    "plt.figure(figsize = (10,7))\n",
    "plt.plot(n_all,abs_pogr,label='абсолютная погрешность')\n",
    "plt.plot(n_all,theor_pogr,label='теоретические оценки')\n",
    "plt.xlabel('n')\n",
    "plt.ylabel('Погрешность')\n",
    "plt.legend()"
   ]
  },
  {
   "cell_type": "markdown",
   "metadata": {},
   "source": [
    "**6.7.4**\n",
    "\n",
    "Вычислить приближенно площадь фигуры, ограниченной кривыми, указанными в индивидуальном варианте. Точки пересечения\n",
    "кривых найти графически. Для вычисления интегралов с точностью $10^{-8}$ использовать квадратурную формулу, указанную в индивидуальном\n",
    "варианте, и правило Рунге оценки погрешности"
   ]
  },
  {
   "cell_type": "code",
   "execution_count": 62,
   "metadata": {},
   "outputs": [],
   "source": [
    "def f1(x):\n",
    "    return 27/(x**2+9)\n",
    "def f2(x):\n",
    "    return x**2/6"
   ]
  },
  {
   "cell_type": "code",
   "execution_count": 65,
   "metadata": {},
   "outputs": [
    {
     "data": {
      "text/plain": [
       "<matplotlib.legend.Legend at 0x1b519dd2ef0>"
      ]
     },
     "execution_count": 65,
     "metadata": {},
     "output_type": "execute_result"
    },
    {
     "data": {
      "image/png": "[encoded data removed]",
      "text/plain": [
       "<Figure size 576x576 with 1 Axes>"
      ]
     },
     "metadata": {
      "needs_background": "light"
     },
     "output_type": "display_data"
    }
   ],
   "source": [
    "x_all = np.linspace(-5,5,500)\n",
    "plt.figure(figsize = (8,8))\n",
    "plt.plot(x_all,f1(x_all),label='$y=\\\\frac{27}{x^2+9}$')\n",
    "plt.plot(x_all,f2(x_all),label='$y=\\\\frac{x**2}{6}$')\n",
    "plt.xlabel('x')\n",
    "plt.ylabel('y')\n",
    "plt.legend(fontsize=14)"
   ]
  },
  {
   "cell_type": "markdown",
   "metadata": {},
   "source": [
    "Точки пересечения: $x_1=-3, x_2=3$"
   ]
  },
  {
   "cell_type": "code",
   "execution_count": 69,
   "metadata": {},
   "outputs": [
    {
     "name": "stdout",
     "output_type": "stream",
     "text": [
      "5.568583471918165\n"
     ]
    }
   ],
   "source": [
    "n = 10\n",
    "S_old = 0\n",
    "eps=1e-8\n",
    "S1 = rectangular(f1,a,b,n)\n",
    "S2 = rectangular(f2,a,b,n)\n",
    "S_new = abs(S1-S2)\n",
    "while abs(S_old-S_new)>=eps:\n",
    "    S_old = S_new\n",
    "    n = 2*n\n",
    "    S1 = rectangular(f1,a,b,n)\n",
    "    S2 = rectangular(f2,a,b,n)\n",
    "    S_new = abs(I1-I2)\n",
    "print(S_new)"
   ]
  },
  {
   "cell_type": "markdown",
   "metadata": {},
   "source": [
    "**6.6.11**\n",
    "\n",
    "Вычислить значение интеграла $I$ из задачи 6.1, используя квадратурную формулу Гаусса с одним, двумя, тремя, четырьмя узлами.\n",
    "Определить абсолютную погрешность результата. Построить гистограмму зависимости погрешности от числа узлов."
   ]
  },
  {
   "cell_type": "code",
   "execution_count": 70,
   "metadata": {},
   "outputs": [],
   "source": [
    "def P(x):\n",
    "    return 2.2+0.7*x+4.5*x**2+0.8*x**3+0.6*x**4"
   ]
  },
  {
   "cell_type": "code",
   "execution_count": 71,
   "metadata": {},
   "outputs": [],
   "source": [
    "an_ans=5.605707762688\n",
    "a = 1\n",
    "b = 1.44"
   ]
  },
  {
   "cell_type": "code",
   "execution_count": 73,
   "metadata": {},
   "outputs": [],
   "source": [
    "def Gauss(f,a,b,n):\n",
    "    if n==1:\n",
    "        x=np.array([0])\n",
    "        w=np.array([2])\n",
    "    elif n==2:\n",
    "        x=np.array([-0.577350269189626,0.577350269189626])\n",
    "        w=np.array([1,1])\n",
    "    elif n==3:\n",
    "        x=np.array([-0.77459666929954,0,0.77459666929954])\n",
    "        w=np.array([0.55555555555556,0.88888888888888,0.55555555555556])\n",
    "    elif n==4:\n",
    "        x=np.array([-0.861136311594052,-0.339981043584856,0.339981043584856,0.861136311594052])\n",
    "        w=np.array([0.347854845137454,0.652145154862546,0.652145154862546,0.347854845137454])\n",
    "        \n",
    "    return ((b-a)/2)*np.sum(w*f((a+b)/2+x*(b-a)/2))"
   ]
  },
  {
   "cell_type": "code",
   "execution_count": 76,
   "metadata": {},
   "outputs": [
    {
     "name": "stdout",
     "output_type": "stream",
     "text": [
      " 1 узлов: 5.514819 \n",
      " 2 узлов: 5.605653 \n",
      " 3 узлов: 5.605708 \n",
      " 4 узлов: 5.605708 \n"
     ]
    }
   ],
   "source": [
    "all_n = np.arange(1,5)\n",
    "pogr = []\n",
    "for n in all_n:\n",
    "    I = Gauss(P,a,b,n)\n",
    "    print(\" %.d узлов: %.6f \" %(n,I))\n",
    "    pogr.append(abs(an_ans - I))"
   ]
  },
  {
   "cell_type": "code",
   "execution_count": 78,
   "metadata": {},
   "outputs": [
    {
     "data": {
      "text/plain": [
       "Text(0, 0.5, 'pogr')"
      ]
     },
     "execution_count": 78,
     "metadata": {},
     "output_type": "execute_result"
    },
    {
     "data": {
      "image/png": "[encoded data removed]",
      "text/plain": [
       "<Figure size 432x288 with 1 Axes>"
      ]
     },
     "metadata": {
      "needs_background": "light"
     },
     "output_type": "display_data"
    }
   ],
   "source": [
    "plt.bar(all_n,pogr,tick_label = ['1','2','3','4'])\n",
    "plt.yscale('log')\n",
    "plt.xlabel('n')\n",
    "plt.ylabel('pogr')"
   ]
  },
  {
   "cell_type": "code",
   "execution_count": null,
   "metadata": {},
   "outputs": [],
   "source": []
  }
 ],
 "metadata": {
  "kernelspec": {
   "display_name": "Python 3",
   "language": "python",
   "name": "python3"
  },
  "language_info": {
   "codemirror_mode": {
    "name": "ipython",
    "version": 3
   },
   "file_extension": ".py",
   "mimetype": "text/x-python",
   "name": "python",
   "nbconvert_exporter": "python",
   "pygments_lexer": "ipython3",
   "version": "3.7.1"
  }
 },
 "nbformat": 4,
 "nbformat_minor": 2
}
