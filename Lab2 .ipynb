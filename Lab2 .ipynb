{
 "cells": [
  {
   "cell_type": "markdown",
   "metadata": {},
   "source": [
    "**Лабораторная работа 2**"
   ]
  },
  {
   "cell_type": "markdown",
   "metadata": {},
   "source": [
    "**Кубышкина Екатерина, вариант 11**"
   ]
  },
  {
   "cell_type": "markdown",
   "metadata": {},
   "source": [
    "**Задача 2.6.2**\n",
    "\n",
    "Локализовать корни уравнения f(x)=0. Найти их с точностью ε=1е-5 и ε=1е-12, используя метод Ньютона и метод ложного положения. \n",
    "Сравнить скорость сходимости методов (по числу итераций) для каждого значения ε."
   ]
  },
  {
   "cell_type": "markdown",
   "metadata": {},
   "source": [
    "\n",
    "$f(x) = \\sqrt{2-x^2}-e^x$"
   ]
  },
  {
   "cell_type": "markdown",
   "metadata": {},
   "source": [
    "**Метод Ньютона**\n",
    "\n",
    "Пусть дано уравнение  $f(x) = 0$ и начальное приближение $x_0$ к его корню.\n",
    "Предполагаем, что функция $f(x)$ — вещественная и находим вещественный корень $x^*$\n",
    "Будем предполагать, что на отрезке $[a, b]$ содержится единственный корень\n",
    "уравнения и существуют непрерывные производные $f^\\prime\\neq0$, $f^{\\prime\\prime}\\neq0$.\n",
    "\n",
    "Заменим уравнение в окрестности $x_0$ приближенно уравнением\n",
    "$f(x_0) + f^\\prime(x_0)(x − x_0) = 0$,\n",
    "левая часть которого есть линейная часть разложения функции $f(x)$ в ряд Тейлора в\n",
    "окрестности точки $x_0$. \n",
    "Отсюда\n",
    "$x_1 = x_0 −\\frac{f(x_0)}{f^\\prime(x_0)}$.\n",
    "Действуя аналогично, получаем расчетную формулу метода Ньютона\n",
    "$x_k = x_{k−1} -\\frac{f(x_{k-1})}{f^\\prime(x_{k-1})}$\n",
    "Метод Ньютона имеет простой геометрический смысл: $x_k$ есть абсцисса точки пересечения касательной к графику функции $f(x)$, построенной в точке $(x_{k−1}, f(x_{k−1}))$, с осью абсцисс.\n",
    "\n",
    "**Метод ложного положения**\n",
    "\n",
    "$x_{k+1} = x_{k} -\\frac{c-(x_{k})}{f(c) - f(x_{k})}f(x_k)$"
   ]
  },
  {
   "cell_type": "code",
   "execution_count": 1,
   "metadata": {},
   "outputs": [],
   "source": [
    "import numpy as np\n",
    "import math\n",
    "import matplotlib.pyplot as plt\n",
    "\n",
    "def diff_f(x):\n",
    "    return -(x/math.sqrt(2-x*x) + np.exp(x))\n",
    "\n",
    "def f(x):\n",
    "    return math.sqrt(2-x*x) - np.exp(x)\n",
    "\n",
    "def Newton(x0, f, diff_f, eps, max_iter):\n",
    "    for i in range(max_iter):\n",
    "        x1=x0-f(x0)/diff_f(x0)\n",
    "        if abs(x1-x0) < eps:\n",
    "            return x1,i\n",
    "        x0=x1\n",
    "    raise ValueError('Error!!!')\n",
    "    \n",
    "def false_position(x0, f,c, eps, max_iter):\n",
    "    for i in range(max_iter):\n",
    "        x1=x0-((c-x0)/(f(c)-f(x0)))*f(x0)\n",
    "        if abs(x1-x0) < eps:\n",
    "            return x1,i\n",
    "        x0=x1\n",
    "    raise ValueError('Error!!!')"
   ]
  },
  {
   "cell_type": "markdown",
   "metadata": {},
   "source": [
    "Cтроим график функции и смотрим отрезки, где локализованы корни"
   ]
  },
  {
   "cell_type": "code",
   "execution_count": 2,
   "metadata": {},
   "outputs": [
    {
     "data": {
      "image/png": "[encoded data removed]",
      "text/plain": [
       "<Figure size 432x288 with 1 Axes>"
      ]
     },
     "metadata": {},
     "output_type": "display_data"
    }
   ],
   "source": [
    "eps = 0.0000001\n",
    "s=np.linspace(-math.sqrt(2)+eps,math.sqrt(2)-eps)\n",
    "ylist = [f(x) for x in s]\n",
    "zero=np.zeros(50)\n",
    "p = plt.plot(s,ylist)\n",
    "z = plt.plot(s, zero)\n",
    "plt.grid(True)"
   ]
  },
  {
   "cell_type": "markdown",
   "metadata": {},
   "source": [
    "Выбираем такие начальные приближения для двух наших корней"
   ]
  },
  {
   "cell_type": "code",
   "execution_count": 2,
   "metadata": {},
   "outputs": [
    {
     "name": "stdout",
     "output_type": "stream",
     "text": [
      "Epsilon = 1e-05:\n",
      "Ньютон: x1 = 0.320252, количество итераций = 1\n",
      "Ньютон: x2 = -1.392205, количество итераций = 4\n",
      "Ложное положение: x1 = 0.320252, количество итераций = 1\n",
      "Ложное положение: x2 = -1.392205, количество итераций = 4\n",
      "Epsilon = 1e-12:\n",
      "Ньютон: x1 = 0.320252, количество итераций = 2\n",
      "Ньютон: x2 = -1.392205, количество итераций = 5\n",
      "Ложное положение: x1 = 0.320252, количество итераций = 4\n",
      "Ложное положение: x2 = -1.392205, количество итераций = 11\n"
     ]
    }
   ],
   "source": [
    "x0=0.32015\n",
    "x1=-1.355\n",
    "eps=[1e-5,1e-12]\n",
    "c0=0.33\n",
    "c2=-1.4\n",
    "for e in eps:\n",
    "    print('Epsilon = '+str(e)+':')\n",
    "    print('Ньютон: x1 = %f, количество итераций = %d'%Newton(x0, f, diff_f,e,1000))\n",
    "    print('Ньютон: x2 = %f, количество итераций = %d'%Newton(x1, f, diff_f,e,1000))\n",
    "    print('Ложное положение: x1 = %f, количество итераций = %d'%false_position(x0, f,c0, e, 1000))\n",
    "    print('Ложное положение: x2 = %f, количество итераций = %d'%false_position(x1, f,c2, e, 1000))  "
   ]
  },
  {
   "cell_type": "markdown",
   "metadata": {},
   "source": [
    "**Вывод:**\n",
    "при точности = 1е-5 количества итераций у обоих методов совпадают, а вот уже при точности = 1е-12 метод ложного положения-таки отстает и сходится медленнее, чем метод Ньютона."
   ]
  },
  {
   "cell_type": "markdown",
   "metadata": {},
   "source": [
    "**Задача 2.9.4 **\n",
    "\n",
    "a)Локализовать корни уравнения f(x)=0. Уточнить их с точностью 10^(-7), используя метод Ньютона. \n",
    "Для поиска кратного корня и определения его кратности следует использовать модификацию метода Ньютона для случая кратного корня\n",
    "с m=1,2,3. При любых ли начальных приближениях такой метод сходится? \n",
    "\n",
    "b) Рассмотреть уравнение f(x)+δ=0, где δ = 10^(-8). Найти корень кратности 1, используя метод Ньютона.\n",
    "Применить для нахождения кратного корня соответствующую модификацию* метода Ньютона. \n",
    "Удается ли найти кратный корень? Если нет, то использовать метод Ньютона с комплексными начальными приближениями.\n",
    "Сохранился ли кратный корень? Объяснить результаты"
   ]
  },
  {
   "cell_type": "markdown",
   "metadata": {},
   "source": [
    "$f(x) = x^3 - 5.5x^2 + 9.5625x - 5.0625$"
   ]
  },
  {
   "cell_type": "code",
   "execution_count": 3,
   "metadata": {},
   "outputs": [],
   "source": [
    "def f(x):\n",
    "    return x*x*x-5.5*x*x+9.5625*x-5.0625\n",
    "def diff_f(x):\n",
    "    return 3*x*x-5.5*2*x+9.5625"
   ]
  },
  {
   "cell_type": "code",
   "execution_count": 11,
   "metadata": {},
   "outputs": [],
   "source": [
    "def newton_modify(f, diff_f,x0,eps,m,maxiter):\n",
    "    x=x0\n",
    "    x_n=x-m*(f(x)/diff_f(x))\n",
    "    xs=[]\n",
    "    xs.append(x_n)\n",
    "    i=1\n",
    "    while abs(x_n-x)>eps:\n",
    "        x=x_n\n",
    "        x_n=x-m*(f(x)/diff_f(x))\n",
    "        xs.append(x_n)\n",
    "        i=i+1\n",
    "        if i>maxiter:\n",
    "            print('слишком много операций:')\n",
    "            break\n",
    "    return xs[-1],i"
   ]
  },
  {
   "cell_type": "code",
   "execution_count": 49,
   "metadata": {},
   "outputs": [
    {
     "data": {
      "image/png": "[encoded data removed]",
      "text/plain": [
       "<Figure size 432x288 with 1 Axes>"
      ]
     },
     "metadata": {},
     "output_type": "display_data"
    }
   ],
   "source": [
    "s=np.linspace(-5,5)\n",
    "ylist = [f(x) for x in s]\n",
    "zero=np.zeros(50)\n",
    "p = plt.plot(s,ylist)\n",
    "z = plt.plot(s, zero)\n",
    "plt.grid(True)"
   ]
  },
  {
   "cell_type": "markdown",
   "metadata": {},
   "source": [
    "Смотрим на график. Не совсем понятно, где тут какие корни, что из них кратно. Но! мы знаем, что если кратность=2, то производная =0 => касательная горизонтальна. Может, это как-то нам поможет, а пока возьмем такие начальные приближения."
   ]
  },
  {
   "cell_type": "code",
   "execution_count": 12,
   "metadata": {},
   "outputs": [],
   "source": [
    "eps=1e-7\n",
    "x1=0.8\n",
    "x2=1.9\n",
    "maxiter=5000"
   ]
  },
  {
   "cell_type": "code",
   "execution_count": 51,
   "metadata": {},
   "outputs": [
    {
     "name": "stdout",
     "output_type": "stream",
     "text": [
      "Ньютон: x1 = 1.000000, количество итераций = 4\n",
      "Ньютон: x2 = 2.250000, количество итераций = 21\n"
     ]
    }
   ],
   "source": [
    "print('Ньютон: x1 = %f, количество итераций = %d'%Newton(x1, f, diff_f,eps,1000))\n",
    "print('Ньютон: x2 = %f, количество итераций = %d'%Newton(x2, f, diff_f,eps,1000))"
   ]
  },
  {
   "cell_type": "markdown",
   "metadata": {},
   "source": [
    "Ньютон предлагает нам такие корни, и если верить Вольфраму, то это действительно так. Осталось разобраться с кратностями."
   ]
  },
  {
   "cell_type": "code",
   "execution_count": 6,
   "metadata": {},
   "outputs": [
    {
     "name": "stdout",
     "output_type": "stream",
     "text": [
      "Ньютон для кратных корней: x1 =  1.0000000000000004  количество итераций = 5  кратность = 1\n",
      "слишком много операций:\n",
      "Ньютон для кратных корней: x1 =  1.0135610712180276  количество итераций = 1001  кратность = 2\n",
      "Ньютон для кратных корней: x1 =  2.250000006454021  количество итераций = 29  кратность = 3\n"
     ]
    }
   ],
   "source": [
    "for i in range(3):\n",
    "    x,k=newton_modify(f, diff_f,x1,eps,i+1,maxiter)\n",
    "    print('Ньютон для кратных корней: x1 = ',x,' количество итераций =',k,' кратность =',i+1)"
   ]
  },
  {
   "cell_type": "markdown",
   "metadata": {},
   "source": [
    "Первый корень уравнения = 1 с кратностью 1, так как из всех вариантов здесь самое меньшее количество итераций, похоже на правду!"
   ]
  },
  {
   "cell_type": "code",
   "execution_count": 7,
   "metadata": {},
   "outputs": [
    {
     "name": "stdout",
     "output_type": "stream",
     "text": [
      "Ньютон для кратных корней: x2 =  2.249999943826791  количество итераций = 22  кратность = 1\n",
      "Ньютон для кратных корней: x2 =  2.2500000001902314  количество итераций = 7  кратность = 2\n",
      "Ньютон для кратных корней: x2 =  2.24999995766847  количество итераций = 24  кратность = 3\n"
     ]
    }
   ],
   "source": [
    "for i in range(3):\n",
    "    x,k=newton_modify(f, diff_f,x2,eps,i+1,maxiter)\n",
    "    print('Ньютон для кратных корней: x2 = ',x,' количество итераций =',k,' кратность =',i+1)"
   ]
  },
  {
   "cell_type": "markdown",
   "metadata": {},
   "source": [
    "Второй корень =2.25 кратности 2, и это радует! в данном случае модифицированный метод Ньютона сошелся быстрее всего."
   ]
  },
  {
   "cell_type": "markdown",
   "metadata": {},
   "source": [
    "Перейдем к пункту б."
   ]
  },
  {
   "cell_type": "code",
   "execution_count": 13,
   "metadata": {},
   "outputs": [],
   "source": [
    "def f2(x):\n",
    "    return x**3-5.5*x*x+9.5625*x-5.0625+1e-8\n",
    "def diff_f2(x):\n",
    "    return 3*x*x-5.5*2*x+9.5625"
   ]
  },
  {
   "cell_type": "code",
   "execution_count": 55,
   "metadata": {},
   "outputs": [
    {
     "data": {
      "image/png": "[encoded data removed]",
      "text/plain": [
       "<Figure size 432x288 with 1 Axes>"
      ]
     },
     "metadata": {},
     "output_type": "display_data"
    }
   ],
   "source": [
    "s=np.linspace(-5,5)\n",
    "ylist = [f2(x) for x in s]\n",
    "zero=np.zeros(50)\n",
    "p = plt.plot(s,ylist)\n",
    "z = plt.plot(s, zero)\n",
    "plt.grid(True)"
   ]
  },
  {
   "cell_type": "code",
   "execution_count": 16,
   "metadata": {},
   "outputs": [
    {
     "name": "stdout",
     "output_type": "stream",
     "text": [
      "Ньютон: x1 = 1.000000, количество итераций = 4\n"
     ]
    },
    {
     "ename": "ValueError",
     "evalue": "Error!!!",
     "output_type": "error",
     "traceback": [
      "\u001b[1;31m---------------------------------------------------------------------------\u001b[0m",
      "\u001b[1;31mValueError\u001b[0m                                Traceback (most recent call last)",
      "\u001b[1;32m<ipython-input-16-cac09591a7e4>\u001b[0m in \u001b[0;36m<module>\u001b[1;34m()\u001b[0m\n\u001b[0;32m      1\u001b[0m \u001b[0mprint\u001b[0m\u001b[1;33m(\u001b[0m\u001b[1;34m'Ньютон: x1 = %f, количество итераций = %d'\u001b[0m\u001b[1;33m%\u001b[0m\u001b[0mNewton\u001b[0m\u001b[1;33m(\u001b[0m\u001b[0mx1\u001b[0m\u001b[1;33m,\u001b[0m \u001b[0mf2\u001b[0m\u001b[1;33m,\u001b[0m \u001b[0mdiff_f2\u001b[0m\u001b[1;33m,\u001b[0m\u001b[0meps\u001b[0m\u001b[1;33m,\u001b[0m\u001b[1;36m5000\u001b[0m\u001b[1;33m)\u001b[0m\u001b[1;33m)\u001b[0m\u001b[1;33m\u001b[0m\u001b[0m\n\u001b[1;32m----> 2\u001b[1;33m \u001b[0mprint\u001b[0m\u001b[1;33m(\u001b[0m\u001b[1;34m'Ньютон: x2 = %f, количество итераций = %d'\u001b[0m\u001b[1;33m%\u001b[0m\u001b[0mNewton\u001b[0m\u001b[1;33m(\u001b[0m\u001b[0mx2\u001b[0m\u001b[1;33m,\u001b[0m \u001b[0mf2\u001b[0m\u001b[1;33m,\u001b[0m \u001b[0mdiff_f2\u001b[0m\u001b[1;33m,\u001b[0m\u001b[0meps\u001b[0m\u001b[1;33m,\u001b[0m\u001b[1;36m5000\u001b[0m\u001b[1;33m)\u001b[0m\u001b[1;33m)\u001b[0m\u001b[1;33m\u001b[0m\u001b[0m\n\u001b[0m",
      "\u001b[1;32m<ipython-input-1-d34599668f1f>\u001b[0m in \u001b[0;36mNewton\u001b[1;34m(x0, f, diff_f, eps, max_iter)\u001b[0m\n\u001b[0;32m     15\u001b[0m             \u001b[1;32mreturn\u001b[0m \u001b[0mx1\u001b[0m\u001b[1;33m,\u001b[0m\u001b[0mi\u001b[0m\u001b[1;33m\u001b[0m\u001b[0m\n\u001b[0;32m     16\u001b[0m         \u001b[0mx0\u001b[0m\u001b[1;33m=\u001b[0m\u001b[0mx1\u001b[0m\u001b[1;33m\u001b[0m\u001b[0m\n\u001b[1;32m---> 17\u001b[1;33m     \u001b[1;32mraise\u001b[0m \u001b[0mValueError\u001b[0m\u001b[1;33m(\u001b[0m\u001b[1;34m'Error!!!'\u001b[0m\u001b[1;33m)\u001b[0m\u001b[1;33m\u001b[0m\u001b[0m\n\u001b[0m\u001b[0;32m     18\u001b[0m \u001b[1;33m\u001b[0m\u001b[0m\n\u001b[0;32m     19\u001b[0m \u001b[1;32mdef\u001b[0m \u001b[0mfalse_position\u001b[0m\u001b[1;33m(\u001b[0m\u001b[0mx0\u001b[0m\u001b[1;33m,\u001b[0m \u001b[0mf\u001b[0m\u001b[1;33m,\u001b[0m\u001b[0mc\u001b[0m\u001b[1;33m,\u001b[0m \u001b[0meps\u001b[0m\u001b[1;33m,\u001b[0m \u001b[0mmax_iter\u001b[0m\u001b[1;33m)\u001b[0m\u001b[1;33m:\u001b[0m\u001b[1;33m\u001b[0m\u001b[0m\n",
      "\u001b[1;31mValueError\u001b[0m: Error!!!"
     ]
    }
   ],
   "source": [
    "print('Ньютон: x1 = %f, количество итераций = %d'%Newton(x1, f2, diff_f2,eps,5000))\n",
    "print('Ньютон: x2 = %f, количество итераций = %d'%Newton(x2, f2, diff_f2,eps,5000))"
   ]
  },
  {
   "cell_type": "markdown",
   "metadata": {},
   "source": [
    "Один корень нашелся, со вторым уже метод Ньютона справиться не в состоянии и расходится."
   ]
  },
  {
   "cell_type": "code",
   "execution_count": 19,
   "metadata": {},
   "outputs": [
    {
     "name": "stdout",
     "output_type": "stream",
     "text": [
      "Ньютон для кратных корней: x1 =  0.9999999936000004  количество итераций = 5  кратность = 1\n",
      "слишком много операций:\n",
      "Ньютон для кратных корней: x1 =  1.0061767221319495  количество итераций = 5001  кратность = 2\n",
      "слишком много операций:\n",
      "Ньютон для кратных корней: x1 =  2.249845109419729  количество итераций = 5001  кратность = 3\n"
     ]
    }
   ],
   "source": [
    "for i in range(3):\n",
    "    x,k=newton_modify(f2, diff_f2,x1,eps,i+1,maxiter)\n",
    "    print('Ньютон для кратных корней: x1 = ',x,' количество итераций =',k,' кратность =',i+1)"
   ]
  },
  {
   "cell_type": "code",
   "execution_count": 20,
   "metadata": {},
   "outputs": [
    {
     "name": "stdout",
     "output_type": "stream",
     "text": [
      "слишком много операций:\n",
      "Ньютон для кратных корней: x2 =  2.2500065031806864  количество итераций = 5001  кратность = 1\n",
      "слишком много операций:\n",
      "Ньютон для кратных корней: x2 =  2.2500769010504045  количество итераций = 5001  кратность = 2\n",
      "слишком много операций:\n",
      "Ньютон для кратных корней: x2 =  2.2501549481266196  количество итераций = 5001  кратность = 3\n"
     ]
    }
   ],
   "source": [
    "for i in range(3):\n",
    "    x,k=newton_modify(f2, diff_f2,x2,eps,i+1,maxiter)\n",
    "    print('Ньютон для кратных корней: x2 = ',x,' количество итераций =',k,' кратность =',i+1)"
   ]
  },
  {
   "cell_type": "markdown",
   "metadata": {},
   "source": [
    "Второй корень все никак не желает находиться, метод Ньютона расходится и все тут! \n",
    "Я эксперементировала с различным числом итераций и начальными приближениями, все бесполезно!\n",
    "Попробуем комплексные начальные приближения"
   ]
  },
  {
   "cell_type": "code",
   "execution_count": 21,
   "metadata": {},
   "outputs": [
    {
     "name": "stdout",
     "output_type": "stream",
     "text": [
      "Ньютон для кратных корней: x2 =  (2.250000003200025+8.944270483030054e-05j)  количество итераций = 18  кратность = 1\n",
      "слишком много операций:\n",
      "Ньютон для кратных корней: x2 =  (2.2499041414365455-1.2630832665467355e-07j)  количество итераций = 5001  кратность = 2\n",
      "слишком много операций:\n",
      "Ньютон для кратных корней: x2 =  (2.2498451094591854+3.569e-320j)  количество итераций = 5001  кратность = 3\n"
     ]
    }
   ],
   "source": [
    "x2=complex(2,1)\n",
    "for i in range(3):\n",
    "    x,k=newton_modify(f2, diff_f2,x2,eps,i+1,maxiter)\n",
    "    print('Ньютон для кратных корней: x2 = ',x,' количество итераций =',k,' кратность =',i+1)"
   ]
  },
  {
   "cell_type": "code",
   "execution_count": 24,
   "metadata": {},
   "outputs": [
    {
     "name": "stdout",
     "output_type": "stream",
     "text": [
      "Ньютон: x2 =  (2.250000003200025+8.944270483030054e-05j)  количество итераций = 17\n"
     ]
    }
   ],
   "source": [
    "x,k=Newton(x2, f2, diff_f2,eps,5000)\n",
    "print('Ньютон: x2 = ',x,' количество итераций =',k)"
   ]
  },
  {
   "cell_type": "markdown",
   "metadata": {},
   "source": [
    "А вот тут уже другое дело. \n",
    "Нашелся один комплексный корень, с ним в паре идет и сопряженный, который тоже является корнем уравнения"
   ]
  },
  {
   "cell_type": "code",
   "execution_count": null,
   "metadata": {},
   "outputs": [],
   "source": []
  }
 ],
 "metadata": {
  "kernelspec": {
   "display_name": "Python 3",
   "language": "python",
   "name": "python3"
  },
  "language_info": {
   "codemirror_mode": {
    "name": "ipython",
    "version": 3
   },
   "file_extension": ".py",
   "mimetype": "text/x-python",
   "name": "python",
   "nbconvert_exporter": "python",
   "pygments_lexer": "ipython3",
   "version": "3.6.5"
  }
 },
 "nbformat": 4,
 "nbformat_minor": 2
}
